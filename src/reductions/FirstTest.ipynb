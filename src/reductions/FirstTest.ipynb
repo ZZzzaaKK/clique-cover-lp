{
 "cells": [
  {
   "metadata": {
    "ExecuteTime": {
     "end_time": "2025-08-29T11:53:42.794437Z",
     "start_time": "2025-08-29T11:53:41.375558Z"
    }
   },
   "cell_type": "code",
   "source": "!python test_reductions.py",
   "id": "e0c3a34c263fc515",
   "outputs": [
    {
     "name": "stdout",
     "output_type": "stream",
     "text": [
      "/Users/tabeafry/Master/FortgeschritteneMethodenDerBioinformatik/clique-cover-lp/src/reductions/reductions.py:30: SyntaxWarning: invalid escape sequence '\\{'\r\n",
      "  a ∈ N(u)\\{v}, b ∈ N(w)\\{v}, the edge (a, b) must exist.\r\n",
      "test_crown_reduction (__main__.TestCrownReduction.test_crown_reduction)\r\n",
      "Test ob die Crown Reduction bei diesem Graphen funktioniert. ... \r\n",
      "=== Crown Reduction Test Setup ===\r\n",
      "Graph nodes: [1, 2, 3, 4, 5, 6, 7, 8]\r\n",
      "Graph edges: [(1, 6), (2, 6), (3, 6), (4, 6), (5, 1), (5, 2), (5, 3), (5, 4), (5, 7), (6, 8), (7, 8)]\r\n",
      "Expected I (independent set): [1, 2, 3, 4]\r\n",
      "Expected H (to be matched): [5, 6]\r\n",
      "\r\n",
      "=== Before Crown Reduction ===\r\n",
      "Maximum matching: {(8, 7), (6, 1), (5, 4)}\r\n",
      "Matched nodes: [1, 4, 5, 6, 7, 8]\r\n",
      "Unmatched nodes: [2, 3]\r\n",
      "\r\n",
      "=== After Crown Reduction ===\r\n",
      "Changed: False\r\n",
      "Crown sets found: []\r\n",
      "Remaining nodes: [1, 2, 3, 4, 5, 6, 7, 8]\r\n",
      "Remaining edges: [(1, 6), (2, 6), (3, 6), (4, 6), (5, 1), (5, 2), (5, 3), (5, 4), (5, 7), (6, 8), (7, 8)]\r\n",
      "FAIL\r\n",
      "test_crown_reduction_alternative (__main__.TestCrownReductionAlternative.test_crown_reduction_alternative)\r\n",
      "Test der alternativen Crown-Struktur. ... \r\n",
      "=== Alternative Crown Test Setup ===\r\n",
      "Graph: [(0, 1), (0, 2), (0, 3), (1, 4), (1, 5), (2, 4), (2, 5), (3, 4)]\r\n",
      "Matching: {(5, 1), (4, 2), (3, 0)}\r\n",
      "Changed: False\r\n",
      "Crown sets: []\r\n",
      "Remaining: [0, 1, 2, 3, 4, 5]\r\n",
      "No crown found - this graph might not have a crown structure\r\n",
      "skipped 'Graph has no crown structure'\r\n",
      "test_degree_two_folding (__main__.TestDegreeTwoFolding.test_degree_two_folding) ... Reductions applied (degree two folding): [(2, 1, 4)]\r\n",
      "FAIL\r\n",
      "test_domination (__main__.TestDominationReduction.test_domination) ... Reductions applied (domination): [1]\r\n",
      "ok\r\n",
      "test_isolated_vertex_reduction (__main__.TestIsolatedVertexReduction.test_isolated_vertex_reduction) ... Reductions applied (isolated vertex): [4, 5]\r\n",
      "ok\r\n",
      "test_twin_folding (__main__.TestTwinFolding.test_twin_folding) ... ERROR\r\n",
      "test_twin_removal (__main__.TestTwinRemoval.test_twin_removal) ... Reductions applied (twin removal): [(4, 5, 1, 2, 3, None)]\r\n",
      "ok\r\n",
      "\r\n",
      "======================================================================\r\n",
      "ERROR: test_twin_folding (__main__.TestTwinFolding.test_twin_folding)\r\n",
      "----------------------------------------------------------------------\r\n",
      "Traceback (most recent call last):\r\n",
      "  File \"/Users/tabeafry/Master/FortgeschritteneMethodenDerBioinformatik/clique-cover-lp/src/reductions/test_reductions.py\", line 90, in test_twin_folding\r\n",
      "    print(\"Folded nodes (twin folding):\", [new_node for _, _, new_node, _ in folds])\r\n",
      "                                                        ^^^^^^^^^^^^^^^^^\r\n",
      "ValueError: too many values to unpack (expected 4)\r\n",
      "\r\n",
      "======================================================================\r\n",
      "FAIL: test_crown_reduction (__main__.TestCrownReduction.test_crown_reduction)\r\n",
      "Test ob die Crown Reduction bei diesem Graphen funktioniert.\r\n",
      "----------------------------------------------------------------------\r\n",
      "Traceback (most recent call last):\r\n",
      "  File \"/Users/tabeafry/Master/FortgeschritteneMethodenDerBioinformatik/clique-cover-lp/src/reductions/test_reductions.py\", line 183, in test_crown_reduction\r\n",
      "    self.assertTrue(changed, \"Graph should have changed due to crown reduction.\")\r\n",
      "    ~~~~~~~~~~~~~~~^^^^^^^^^^^^^^^^^^^^^^^^^^^^^^^^^^^^^^^^^^^^^^^^^^^^^^^^^^^^^^\r\n",
      "AssertionError: False is not true : Graph should have changed due to crown reduction.\r\n",
      "\r\n",
      "======================================================================\r\n",
      "FAIL: test_degree_two_folding (__main__.TestDegreeTwoFolding.test_degree_two_folding)\r\n",
      "----------------------------------------------------------------------\r\n",
      "Traceback (most recent call last):\r\n",
      "  File \"/Users/tabeafry/Master/FortgeschritteneMethodenDerBioinformatik/clique-cover-lp/src/reductions/test_reductions.py\", line 56, in test_degree_two_folding\r\n",
      "    self.assertEqual(folded_neighbors, {4, 5}, \"Folded node should connect to external neighbors of u and w.\")\r\n",
      "    ~~~~~~~~~~~~~~~~^^^^^^^^^^^^^^^^^^^^^^^^^^^^^^^^^^^^^^^^^^^^^^^^^^^^^^^^^^^^^^^^^^^^^^^^^^^^^^^^^^^^^^^^^^\r\n",
      "AssertionError: Items in the first set but not the second:\r\n",
      "3\r\n",
      "Items in the second set but not the first:\r\n",
      "4\r\n",
      "5 : Folded node should connect to external neighbors of u and w.\r\n",
      "\r\n",
      "----------------------------------------------------------------------\r\n",
      "Ran 7 tests in 0.008s\r\n",
      "\r\n",
      "FAILED (failures=2, errors=1, skipped=1)\r\n"
     ]
    }
   ],
   "execution_count": 13
  },
  {
   "metadata": {
    "ExecuteTime": {
     "end_time": "2025-08-29T11:54:06.103123Z",
     "start_time": "2025-08-29T11:54:05.954104Z"
    }
   },
   "cell_type": "code",
   "source": "%run test_reductions.py",
   "id": "54ede18a597a027c",
   "outputs": [
    {
     "name": "stderr",
     "output_type": "stream",
     "text": [
      "test_crown_reduction (__main__.TestCrownReduction.test_crown_reduction)\n",
      "Test ob die Crown Reduction bei diesem Graphen funktioniert. ... FAIL\n",
      "test_crown_reduction_alternative (__main__.TestCrownReductionAlternative.test_crown_reduction_alternative)\n",
      "Test der alternativen Crown-Struktur. ... skipped 'Graph has no crown structure'\n",
      "test_degree_two_folding (__main__.TestDegreeTwoFolding.test_degree_two_folding) ... FAIL\n",
      "test_domination (__main__.TestDominationReduction.test_domination) ... ok\n",
      "test_isolated_vertex_reduction (__main__.TestIsolatedVertexReduction.test_isolated_vertex_reduction) ... ok\n",
      "test_twin_folding (__main__.TestTwinFolding.test_twin_folding) ... ERROR\n",
      "test_twin_removal (__main__.TestTwinRemoval.test_twin_removal) ... ERROR\n",
      "\n",
      "======================================================================\n",
      "ERROR: test_twin_folding (__main__.TestTwinFolding.test_twin_folding)\n",
      "----------------------------------------------------------------------\n",
      "Traceback (most recent call last):\n",
      "  File \"/Users/tabeafry/Master/FortgeschritteneMethodenDerBioinformatik/clique-cover-lp/src/reductions/test_reductions.py\", line 89, in test_twin_folding\n",
      "    G_reduced, changed, folds, VCC_addition = apply_twin_folding_or_removal(self.G.copy())\n",
      "                                              ~~~~~~~~~~~~~~~~~~~~~~~~~~~~~^^^^^^^^^^^^^^^\n",
      "  File \"/Users/tabeafry/Master/FortgeschritteneMethodenDerBioinformatik/clique-cover-lp/src/reductions/reductions.py\", line 137, in apply_twin_folding_or_removal\n",
      "    G.add_node(new_node)\n",
      "                    ^^^^\n",
      "TypeError: unsupported operand type(s) for +: 'set' and 'set'\n",
      "\n",
      "======================================================================\n",
      "ERROR: test_twin_removal (__main__.TestTwinRemoval.test_twin_removal)\n",
      "----------------------------------------------------------------------\n",
      "Traceback (most recent call last):\n",
      "  File \"/Users/tabeafry/Master/FortgeschritteneMethodenDerBioinformatik/clique-cover-lp/.venv/lib/python3.13/site-packages/networkx/classes/graph.py\", line 683, in remove_node\n",
      "    nbrs = list(adj[n])  # list handles self-loops (allows mutation)\n",
      "                ~~~^^^\n",
      "KeyError: 1\n",
      "\n",
      "The above exception was the direct cause of the following exception:\n",
      "\n",
      "Traceback (most recent call last):\n",
      "  File \"/Users/tabeafry/Master/FortgeschritteneMethodenDerBioinformatik/clique-cover-lp/src/reductions/test_reductions.py\", line 72, in test_twin_removal\n",
      "    G_reduced, changed, removed, VCC_addition = apply_twin_folding_or_removal(self.G.copy())\n",
      "                                                ~~~~~~~~~~~~~~~~~~~~~~~~~~~~~^^^^^^^^^^^^^^^\n",
      "  File \"/Users/tabeafry/Master/FortgeschritteneMethodenDerBioinformatik/clique-cover-lp/src/reductions/reductions.py\", line 125, in apply_twin_folding_or_removal\n",
      "    continue # Ensure the crossing independent condition\n",
      "    ^^^^^^^^^^^^^^^^\n",
      "  File \"/Users/tabeafry/Master/FortgeschritteneMethodenDerBioinformatik/clique-cover-lp/.venv/lib/python3.13/site-packages/networkx/classes/graph.py\", line 686, in remove_node\n",
      "    raise NetworkXError(f\"The node {n} is not in the graph.\") from err\n",
      "networkx.exception.NetworkXError: The node 1 is not in the graph.\n",
      "\n",
      "======================================================================\n",
      "FAIL: test_crown_reduction (__main__.TestCrownReduction.test_crown_reduction)\n",
      "Test ob die Crown Reduction bei diesem Graphen funktioniert.\n",
      "----------------------------------------------------------------------\n",
      "Traceback (most recent call last):\n",
      "  File \"/Users/tabeafry/Master/FortgeschritteneMethodenDerBioinformatik/clique-cover-lp/src/reductions/test_reductions.py\", line 183, in test_crown_reduction\n",
      "    self.assertTrue(changed, \"Graph should have changed due to crown reduction.\")\n",
      "    ~~~~~~~~~~~~~~~^^^^^^^^^^^^^^^^^^^^^^^^^^^^^^^^^^^^^^^^^^^^^^^^^^^^^^^^^^^^^^\n",
      "AssertionError: False is not true : Graph should have changed due to crown reduction.\n",
      "\n",
      "======================================================================\n",
      "FAIL: test_degree_two_folding (__main__.TestDegreeTwoFolding.test_degree_two_folding)\n",
      "----------------------------------------------------------------------\n",
      "Traceback (most recent call last):\n",
      "  File \"/Users/tabeafry/Master/FortgeschritteneMethodenDerBioinformatik/clique-cover-lp/src/reductions/test_reductions.py\", line 56, in test_degree_two_folding\n",
      "    self.assertEqual(folded_neighbors, {4, 5}, \"Folded node should connect to external neighbors of u and w.\")\n",
      "    ~~~~~~~~~~~~~~~~^^^^^^^^^^^^^^^^^^^^^^^^^^^^^^^^^^^^^^^^^^^^^^^^^^^^^^^^^^^^^^^^^^^^^^^^^^^^^^^^^^^^^^^^^^\n",
      "AssertionError: Items in the first set but not the second:\n",
      "3\n",
      "Items in the second set but not the first:\n",
      "4\n",
      "5 : Folded node should connect to external neighbors of u and w.\n",
      "\n",
      "----------------------------------------------------------------------\n",
      "Ran 7 tests in 0.081s\n",
      "\n",
      "FAILED (failures=2, errors=2, skipped=1)\n"
     ]
    },
    {
     "name": "stdout",
     "output_type": "stream",
     "text": [
      "\n",
      "=== Crown Reduction Test Setup ===\n",
      "Graph nodes: [1, 2, 3, 4, 5, 6, 7, 8]\n",
      "Graph edges: [(1, 6), (2, 6), (3, 6), (4, 6), (5, 1), (5, 2), (5, 3), (5, 4), (5, 7), (6, 8), (7, 8)]\n",
      "Expected I (independent set): [1, 2, 3, 4]\n",
      "Expected H (to be matched): [5, 6]\n",
      "\n",
      "=== Before Crown Reduction ===\n",
      "Maximum matching: {(8, 7), (6, 1), (5, 4)}\n",
      "Matched nodes: [1, 4, 5, 6, 7, 8]\n",
      "Unmatched nodes: [2, 3]\n",
      "\n",
      "=== After Crown Reduction ===\n",
      "Changed: False\n",
      "Crown sets found: []\n",
      "Remaining nodes: [1, 2, 3, 4, 5, 6, 7, 8]\n",
      "Remaining edges: [(1, 6), (2, 6), (3, 6), (4, 6), (5, 1), (5, 2), (5, 3), (5, 4), (5, 7), (6, 8), (7, 8)]\n",
      "\n",
      "=== Alternative Crown Test Setup ===\n",
      "Graph: [(0, 1), (0, 2), (0, 3), (1, 4), (1, 5), (2, 4), (2, 5), (3, 4)]\n",
      "Matching: {(5, 1), (4, 2), (3, 0)}\n",
      "Changed: False\n",
      "Crown sets: []\n",
      "Remaining: [0, 1, 2, 3, 4, 5]\n",
      "No crown found - this graph might not have a crown structure\n",
      "Reductions applied (degree two folding): [(2, 1, 4)]\n",
      "Reductions applied (domination): [1]\n",
      "Reductions applied (isolated vertex): [4, 5]\n"
     ]
    },
    {
     "ename": "SystemExit",
     "evalue": "1",
     "output_type": "error",
     "traceback": [
      "An exception has occurred, use %tb to see the full traceback.\n",
      "\u001B[31mSystemExit\u001B[39m\u001B[31m:\u001B[39m 1\n"
     ]
    }
   ],
   "execution_count": 15
  },
  {
   "metadata": {
    "ExecuteTime": {
     "end_time": "2025-08-14T09:59:16.767860Z",
     "start_time": "2025-08-14T09:59:16.695691Z"
    }
   },
   "cell_type": "code",
   "source": "%run test_reductions.py",
   "id": "dfdbd3e88eba8845",
   "outputs": [
    {
     "name": "stderr",
     "output_type": "stream",
     "text": [
      "test_crown_reduction (__main__.TestCrownReduction.test_crown_reduction) ... ok\n",
      "test_degree_two_folding (__main__.TestDegreeTwoFolding.test_degree_two_folding) ... ok\n",
      "test_domination (__main__.TestDominationReduction.test_domination) ... ok\n",
      "test_isolated_vertex_reduction (__main__.TestIsolatedVertexReduction.test_isolated_vertex_reduction) ... ok\n",
      "test_twin_folding (__main__.TestTwinFolding.test_twin_folding) ... ok\n",
      "test_twin_removal (__main__.TestTwinRemoval.test_twin_removal) ... ok\n",
      "\n",
      "----------------------------------------------------------------------\n",
      "Ran 6 tests in 0.043s\n",
      "\n",
      "OK\n"
     ]
    },
    {
     "name": "stdout",
     "output_type": "stream",
     "text": [
      "Removed nodes (crown_reduction): [([1, 2, 3], [4, 5], [(4, 1), (5, 2)], [3])]\n",
      "Reductions applied (degree two folding): [(1, 2, 3)]\n",
      "Reductions applied (domination): [1]\n",
      "Reductions applied (isolated vertex): [4, 5]\n",
      "Folded nodes (twin folding): ['1_2_folded']\n",
      "Reductions applied (twin removal): [(4, 5, {1, 2, 3})]\n"
     ]
    }
   ],
   "execution_count": 31
  },
  {
   "metadata": {
    "ExecuteTime": {
     "end_time": "2025-08-29T12:08:05.263882Z",
     "start_time": "2025-08-29T12:08:05.236809Z"
    }
   },
   "cell_type": "code",
   "source": [
    "import unittest\n",
    "import networkx as nx\n",
    "from reductions import apply_degree_two_folding\n",
    "\n",
    "# Define the test case class\n",
    "class TestDegreeTwoFolding(unittest.TestCase):\n",
    "    def setUp(self):\n",
    "        # Create a simple graph with a degree-2 foldable node\n",
    "        self.G = nx.Graph()\n",
    "        self.G.add_edges_from([(1, 2), (1, 3)])\n",
    "        self.G.add_edge(2, 4)\n",
    "        self.G.add_edge(2, 5)\n",
    "        self.G.add_edge(3, 6)\n",
    "        self.G.add_edge(3, 7)\n",
    "\n",
    "    def test_degree_two_folding(self):\n",
    "        # Use the function from the current context\n",
    "        G_folded, changed, folds, VCC_addition = apply_degree_two_folding(self.G.copy())\n",
    "\n",
    "        print(f\"folded nodes: {folds}\")\n",
    "        self.assertTrue(changed, \"Graph should have changed due to folding.\")\n",
    "        self.assertEqual(len(folds), 1, \"One fold should have occurred.\")\n",
    "\n",
    "        v, u, w = folds[0]\n",
    "        self.assertIn(f\"fold_{v}\", G_folded.nodes, \"Folded node should exist.\")\n",
    "        folded_neighbors = set(G_folded.neighbors(f\"fold_{v}\"))\n",
    "        self.assertEqual(folded_neighbors, {4, 5, 6, 7}, \"Folded node should connect to external neighbors of u and w.\")\n",
    "\n",
    "        for node in (v, u, w):\n",
    "            self.assertNotIn(node, G_folded.nodes, f\"Node {node} should have been removed.\")\n",
    "\n",
    "# Run the test\n",
    "suite = unittest.TestLoader().loadTestsFromTestCase(TestDegreeTwoFolding)\n",
    "unittest.TextTestRunner(verbosity=2).run(suite)"
   ],
   "id": "857e3268dbd54d82",
   "outputs": [
    {
     "name": "stderr",
     "output_type": "stream",
     "text": [
      "test_degree_two_folding (__main__.TestDegreeTwoFolding.test_degree_two_folding) ... FAIL\n",
      "\n",
      "======================================================================\n",
      "FAIL: test_degree_two_folding (__main__.TestDegreeTwoFolding.test_degree_two_folding)\n",
      "----------------------------------------------------------------------\n",
      "Traceback (most recent call last):\n",
      "  File \"/var/folders/t_/s65wyw3x6s14tb20670jblyr0000gn/T/ipykernel_74479/1272393646.py\", line 21, in test_degree_two_folding\n",
      "    self.assertTrue(changed, \"Graph should have changed due to folding.\")\n",
      "AssertionError: False is not true : Graph should have changed due to folding.\n",
      "\n",
      "----------------------------------------------------------------------\n",
      "Ran 1 test in 0.005s\n",
      "\n",
      "FAILED (failures=1)\n"
     ]
    },
    {
     "name": "stdout",
     "output_type": "stream",
     "text": [
      "folded noeds: []\n"
     ]
    },
    {
     "data": {
      "text/plain": [
       "<unittest.runner.TextTestResult run=1 errors=0 failures=1>"
      ]
     },
     "execution_count": 8,
     "metadata": {},
     "output_type": "execute_result"
    }
   ],
   "execution_count": 8
  },
  {
   "metadata": {
    "ExecuteTime": {
     "end_time": "2025-08-29T12:15:48.225746Z",
     "start_time": "2025-08-29T12:15:48.128546Z"
    }
   },
   "cell_type": "code",
   "source": [
    "import unittest\n",
    "import networkx as nx\n",
    "from reductions import apply_isolated_vertex_reduction\n",
    "\n",
    "# Define the test case class\n",
    "class TestIsolatedVertexReduction(unittest.TestCase):\n",
    "    def setUp(self):\n",
    "        # Create a simple graph with isolated vertices\n",
    "        self.G = nx.Graph()\n",
    "        self.G.add_edges_from([(1, 2), (2, 3)])\n",
    "        self.G.add_node(4)  # Isolated vertex\n",
    "        self.G.add_node(5)  # Another isolated vertex\n",
    "\n",
    "    def test_isolated_vertex_reduction(self):\n",
    "        # Use the function from the current context\n",
    "        G_reduced, changed, removed, VCC_addition = apply_isolated_vertex_reduction(self.G.copy())\n",
    "        print(f\"removed nodes: {removed} and clique cover addition: {VCC_addition}\")\n",
    "        self.assertTrue(changed, \"Graph should have changed due to isolated vertex removal.\")\n",
    "        self.assertIn(4, removed, \"Isolated vertex 4 should have been removed.\")\n",
    "        self.assertIn(5, removed, \"Isolated vertex 5 should have been removed.\")\n",
    "        self.assertNotIn(4, G_reduced.nodes, \"Isolated vertex 4 should not be in the reduced graph.\")\n",
    "        self.assertNotIn(5, G_reduced.nodes, \"Isolated vertex 5 should not be in the reduced graph.\")\n",
    "\n",
    "\n",
    "# Run the test\n",
    "suite = unittest.TestLoader().loadTestsFromTestCase(TestIsolatedVertexReduction)\n",
    "unittest.TextTestRunner(verbosity=2).run(suite)"
   ],
   "id": "5718da66b6938861",
   "outputs": [
    {
     "name": "stderr",
     "output_type": "stream",
     "text": [
      "test_isolated_vertex_reduction (__main__.TestIsolatedVertexReduction.test_isolated_vertex_reduction) ... ok\n",
      "\n",
      "----------------------------------------------------------------------\n",
      "Ran 1 test in 0.022s\n",
      "\n",
      "OK\n"
     ]
    },
    {
     "name": "stdout",
     "output_type": "stream",
     "text": [
      "removed nodes: [4, 5] and clique cover addition: 2\n"
     ]
    },
    {
     "data": {
      "text/plain": [
       "<unittest.runner.TextTestResult run=1 errors=0 failures=0>"
      ]
     },
     "execution_count": 9,
     "metadata": {},
     "output_type": "execute_result"
    }
   ],
   "execution_count": 9
  },
  {
   "metadata": {
    "ExecuteTime": {
     "end_time": "2025-08-29T12:16:15.129198Z",
     "start_time": "2025-08-29T12:16:15.068550Z"
    }
   },
   "cell_type": "code",
   "source": [
    "import unittest\n",
    "import networkx as nx\n",
    "from reductions import apply_twin_folding_or_removal\n",
    "\n",
    "class TestTwinRemoval(unittest.TestCase):\n",
    "    def setUp(self):\n",
    "        # Create a graph with twin nodes\n",
    "        self.G = nx.Graph()\n",
    "        self.G.add_edges_from([(1, 4), (2, 4), (3, 4)])\n",
    "        self.G.add_edges_from([(1, 5), (2, 5), (3, 5)])\n",
    "#        self.G.add_edges_from([(1, 6), (2, 6), (3, 6)]) # funktion removed den dritten twin nicht, soll das so oder soll der auch entfernt werden? <- nein, der dritte twin soll nicht entfernt werden, da die anderen vorher gelöscht werden\n",
    "        self.G.add_edges_from([(1, 2)])\n",
    "\n",
    "    def test_twin_removal(self):\n",
    "        G_reduced, changed, removed, VCC_additional = apply_twin_folding_or_removal(self.G.copy())\n",
    "        #print(\"Reductions applied (twin_removal):\", [name for name, _ in removed])\n",
    "        print(f\"removed nodes: {removed} and clique cover addition: {VCC_additional}\")\n",
    "        self.assertTrue(changed, \"Graph should have changed due to twin removal.\")\n",
    "        self.assertLess(len(G_reduced.nodes), 5, \"Graph should have fewer than 6 nodes after twin removal.\")\n",
    "        self.assertNotIn(4, G_reduced.nodes, \"Node 4 should have been removed as a twin.\")\n",
    "        self.assertNotIn(5, G_reduced.nodes, \"Node 5 should have been removed as a twin.\")\n",
    "\n",
    "\n",
    "# Run the test\n",
    "suite = unittest.TestLoader().loadTestsFromTestCase(TestTwinRemoval)\n",
    "unittest.TextTestRunner(verbosity=2).run(suite)"
   ],
   "id": "a3ef5e1e316948e1",
   "outputs": [
    {
     "name": "stderr",
     "output_type": "stream",
     "text": [
      "test_twin_removal (__main__.TestTwinRemoval.test_twin_removal) ... ok\n",
      "\n",
      "----------------------------------------------------------------------\n",
      "Ran 1 test in 0.006s\n",
      "\n",
      "OK\n"
     ]
    },
    {
     "name": "stdout",
     "output_type": "stream",
     "text": [
      "removed nodes: [(4, 5, 1, 2, 3, None)] and clique cover addition: 2\n"
     ]
    },
    {
     "data": {
      "text/plain": [
       "<unittest.runner.TextTestResult run=1 errors=0 failures=0>"
      ]
     },
     "execution_count": 10,
     "metadata": {},
     "output_type": "execute_result"
    }
   ],
   "execution_count": 10
  },
  {
   "metadata": {
    "ExecuteTime": {
     "end_time": "2025-08-29T11:58:48.519546Z",
     "start_time": "2025-08-29T11:58:48.483955Z"
    }
   },
   "cell_type": "code",
   "source": [
    "import unittest\n",
    "import networkx as nx\n",
    "from reductions import apply_twin_folding_or_removal\n",
    "\n",
    "class TestTwinFolding(unittest.TestCase):\n",
    "    def setUp(self):\n",
    "        # Create a graph with twin nodes\n",
    "        self.G = nx.Graph()\n",
    "        self.G.add_edges_from([(1, 4), (1, 5), (1, 6),\n",
    "                               (2, 4), (2, 5), (2, 6)])\n",
    "\n",
    "    def test_twin_folding(self):\n",
    "        G_reduced, changed, folds, VCC_addition = apply_twin_folding_or_removal(self.G.copy())\n",
    "#        print(\"Reductions applied (twin_folding):\", [name for name, _ in folds])\n",
    "        print(\"Folded nodes:\", folds)\n",
    "        self.assertTrue(changed, \"Graph should have changed due to twin folding.\")\n",
    "#        self.assertTrue(any(\"twin_folding\" in name.lower() for name, _ in folds), \"Twin folding should have been applied.\")\n",
    "        self.assertTrue(len(folds) > 0, \"Twin folding should have been applied.\")\n",
    "\n",
    "# Run the test\n",
    "suite = unittest.TestLoader().loadTestsFromTestCase(TestTwinFolding)\n",
    "unittest.TextTestRunner(verbosity=2).run(suite)"
   ],
   "id": "7a2c7f1911d9974d",
   "outputs": [
    {
     "name": "stderr",
     "output_type": "stream",
     "text": [
      "test_twin_folding (__main__.TestTwinFolding.test_twin_folding) ... ok\n",
      "\n",
      "----------------------------------------------------------------------\n",
      "Ran 1 test in 0.007s\n",
      "\n",
      "OK\n"
     ]
    },
    {
     "name": "stdout",
     "output_type": "stream",
     "text": [
      "Folded nodes: [(1, 2, 4, 5, 6, '1_2_twin_folded')]\n"
     ]
    },
    {
     "data": {
      "text/plain": [
       "<unittest.runner.TextTestResult run=1 errors=0 failures=0>"
      ]
     },
     "execution_count": 2,
     "metadata": {},
     "output_type": "execute_result"
    }
   ],
   "execution_count": 2
  },
  {
   "metadata": {
    "ExecuteTime": {
     "end_time": "2025-08-29T14:13:55.450559Z",
     "start_time": "2025-08-29T14:13:54.684017Z"
    }
   },
   "cell_type": "code",
   "source": [
    "import unittest\n",
    "import networkx as nx\n",
    "from reductions import apply_domination_reduction\n",
    "\n",
    "class TestDominationReduction(unittest.TestCase):\n",
    "    def setUp(self):\n",
    "        # Create a graph for domination reduction\n",
    "        self.G = nx.Graph()\n",
    "        self.G.add_edges_from([(1, 3), (2, 3), (1, 2)])\n",
    "\n",
    "    def test_domination(self):\n",
    "        G_reduced, changed, removed, VCC_addition = apply_domination_reduction(self.G.copy())\n",
    "        print(\"Reductions applied (domination):\", [name for name, _ in removed])\n",
    "        self.assertTrue(changed, \"Graph should have changed due to domination reduction.\")\n",
    "        self.assertLess(len(G_reduced.nodes), 3, \"Graph should have fewer than 3 nodes after domination reduction.\")\n",
    "\n",
    "\n",
    "# Run the test\n",
    "suite = unittest.TestLoader().loadTestsFromTestCase(TestDominationReduction)\n",
    "unittest.TextTestRunner(verbosity=2).run(suite)"
   ],
   "id": "c817f8470809b618",
   "outputs": [
    {
     "name": "stderr",
     "output_type": "stream",
     "text": [
      "test_domination (__main__.TestDominationReduction.test_domination) ... ok\n",
      "\n",
      "----------------------------------------------------------------------\n",
      "Ran 1 test in 0.002s\n",
      "\n",
      "OK\n"
     ]
    },
    {
     "name": "stdout",
     "output_type": "stream",
     "text": [
      "Reductions applied (domination): [1]\n"
     ]
    },
    {
     "data": {
      "text/plain": [
       "<unittest.runner.TextTestResult run=1 errors=0 failures=0>"
      ]
     },
     "execution_count": 1,
     "metadata": {},
     "output_type": "execute_result"
    }
   ],
   "execution_count": 1
  },
  {
   "metadata": {
    "ExecuteTime": {
     "end_time": "2025-08-14T10:14:44.370098Z",
     "start_time": "2025-08-14T10:14:44.311221Z"
    }
   },
   "cell_type": "code",
   "source": [
    "import unittest\n",
    "import networkx as nx\n",
    "from reductions import apply_crown_reduction\n",
    "\n",
    "class TestCrownReduction(unittest.TestCase):\n",
    "    def setUp(self):\n",
    "        # Create a graph for crown reduction\n",
    "        self.G = nx.Graph()\n",
    "        self.G.add_edges_from([(1, 4), (2, 4), (3, 4), (1, 5), (2, 5), (3, 5), (4, 5)])\n",
    "\n",
    "    def test_crown_reduction(self):\n",
    "        print(\"Initial graph nodes:\", self.G.nodes)\n",
    "        print(\"Initial graph edges:\", self.G.edges)\n",
    "        G_reduced, changed, removed, VCC_addition = apply_crown_reduction(self.G.copy())\n",
    "#        print(\"Reductions applied (crown_reduction):\", [name for name, _ in removed])\n",
    "#        self.assertTrue(changed, \"Graph should have changed due to crown reduction.\")\n",
    "#        self.assertTrue(any(\"crown\" in name.lower() for name, _ in removed), \"Crown reduction should have been applied.\")\n",
    "        print(\"Removed nodes (crown_reduction):\", removed)\n",
    "        print(\"Reduced graph nodes:\", G_reduced.nodes)\n",
    "        print(\"Reduced graph edges:\", G_reduced.edges)\n",
    "        self.assertTrue(changed, \"Graph should have changed due to crown reduction.\")\n",
    "        self.assertTrue(len(removed) > 0, \"Crown reduction should have removed some nodes.\")\n",
    "\n",
    "\n",
    "\n",
    "# Run the test\n",
    "suite = unittest.TestLoader().loadTestsFromTestCase(TestCrownReduction)\n",
    "unittest.TextTestRunner(verbosity=2).run(suite)"
   ],
   "id": "42869bcc2beb141b",
   "outputs": [
    {
     "name": "stderr",
     "output_type": "stream",
     "text": [
      "test_crown_reduction (__main__.TestCrownReduction.test_crown_reduction) ... ok\n",
      "\n",
      "----------------------------------------------------------------------\n",
      "Ran 1 test in 0.016s\n",
      "\n",
      "OK\n"
     ]
    },
    {
     "name": "stdout",
     "output_type": "stream",
     "text": [
      "Initial graph nodes: [1, 4, 2, 3, 5]\n",
      "Initial graph edges: [(1, 4), (1, 5), (4, 2), (4, 3), (4, 5), (2, 5)]\n",
      "Removed nodes (crown_reduction): [([1, 2, 3], [4, 5], [(4, 1), (5, 2)], [3])]\n",
      "Reduced graph nodes: []\n",
      "Reduced graph edges: []\n"
     ]
    },
    {
     "data": {
      "text/plain": [
       "<unittest.runner.TextTestResult run=1 errors=0 failures=0>"
      ]
     },
     "execution_count": 48,
     "metadata": {},
     "output_type": "execute_result"
    }
   ],
   "execution_count": 48
  },
  {
   "metadata": {
    "ExecuteTime": {
     "end_time": "2025-08-06T06:18:29.759041Z",
     "start_time": "2025-08-06T06:18:29.714307Z"
    }
   },
   "cell_type": "code",
   "source": [
    "from reductions import apply_all_reductions\n",
    "\n",
    "\n",
    "class TestAllReductions(unittest.TestCase):\n",
    "\n",
    "    #create a graph with various reducible structures\n",
    "    def setUp(self):\n",
    "        self.G = nx.Graph()\n",
    "\n",
    "        # Isolated vertex\n",
    "        self.G.add_node(100)\n",
    "\n",
    "        # Degree-two folding: a path\n",
    "        self.G.add_edges_from([(1, 2), (2, 3)])  # 2 is degree two\n",
    "\n",
    "        # Twin removal: nodes 10 and 11 have same neighbors and at least two of the neighbours of 10 and 11 are connected\n",
    "        self.G.add_edges_from([(10, 20), (11, 20), (10, 21), (11, 21)])\n",
    "    #    self.G.add_edges_from([(20, 21)])\n",
    "\n",
    "        # Twin folding: nodes 30 and 31 have identical neighbors\n",
    "        self.G.add_edges_from([(30, 40), (31, 40), (30, 41), (31, 41)])\n",
    "\n",
    "        # Domination: node 50 dominates 51 (superset of neighbors)\n",
    "        self.G.add_edges_from([(50, 60), (50, 61), (51, 60)])\n",
    "\n",
    "        # Crown reduction: crown structure with 3 + 3 bipartite graph\n",
    "        self.G.add_edges_from([\n",
    "            (70, 80), (71, 80), (72, 80),\n",
    "            (70, 81), (71, 81), (72, 81)\n",
    "        ])\n",
    "\n",
    "    def test_all_reductions(self):\n",
    "        G_reduced, trace = apply_all_reductions(self.G.copy(), verbose=False, timing=False)\n",
    "\n",
    "        for name, detail in trace:\n",
    "            print(f\"Applied: {name}, Details: {detail}\")\n",
    "\n",
    "        self.assertTrue(any(\"isolated\" in name.lower() for name, _ in trace), \"Isolated vertex reduction should have been applied.\")\n",
    "        self.assertTrue(any(\"degree_two_folding\" in name.lower() for name, _ in trace), \"Degree two folding should have been applied.\")\n",
    "        self.assertTrue(any(\"twin_removal\" in name.lower() for name, _ in trace), \"Twin removal should have been applied.\")\n",
    "        self.assertTrue(any(\"twin_folding\" in name.lower() for name, _ in trace), \"Twin folding should have been applied.\")\n",
    "        self.assertTrue(any(\"domination\" in name.lower() for name, _ in trace), \"Domination reduction should have been applied.\")\n",
    "        self.assertTrue(any(\"crown\" in name.lower() for name, _ in trace), \"Crown reduction should have been applied.\")\n",
    "\n",
    "# Run the test\n",
    "suite = unittest.TestLoader().loadTestsFromTestCase(TestAllReductions)\n",
    "unittest.TextTestRunner(verbosity=2).run(suite)"
   ],
   "id": "f2d695ae7645462c",
   "outputs": [
    {
     "name": "stderr",
     "output_type": "stream",
     "text": [
      "test_all_reductions (__main__.TestAllReductions.test_all_reductions) ... FAIL\n",
      "\n",
      "======================================================================\n",
      "FAIL: test_all_reductions (__main__.TestAllReductions.test_all_reductions)\n",
      "----------------------------------------------------------------------\n",
      "Traceback (most recent call last):\n",
      "  File \"/var/folders/t_/s65wyw3x6s14tb20670jblyr0000gn/T/ipykernel_57561/640533369.py\", line 40, in test_all_reductions\n",
      "    self.assertTrue(any(\"twin_removal\" in name.lower() for name, _ in trace), \"Twin removal should have been applied.\")\n",
      "AssertionError: False is not true : Twin removal should have been applied.\n",
      "\n",
      "----------------------------------------------------------------------\n",
      "Ran 1 test in 0.009s\n",
      "\n",
      "FAILED (failures=1)\n"
     ]
    },
    {
     "name": "stdout",
     "output_type": "stream",
     "text": [
      "Applied: apply_isolated_vertex_reduction, Details: [100]\n",
      "Applied: apply_degree_two_folding, Details: [(2, 1, 3)]\n",
      "Applied: apply_isolated_vertex_reduction, Details: ['fold_2']\n",
      "Applied: apply_degree_two_folding, Details: [(10, 20, 21)]\n",
      "Applied: apply_degree_two_folding, Details: [(30, 40, 41)]\n",
      "Applied: apply_degree_two_folding, Details: [(50, 60, 61)]\n",
      "Applied: apply_degree_two_folding, Details: [(70, 80, 81)]\n",
      "Applied: apply_degree_two_folding, Details: [('fold_70', 72, 71)]\n",
      "Applied: apply_isolated_vertex_reduction, Details: ['fold_fold_70']\n",
      "Applied: apply_domination_reduction, Details: [(11, 'fold_10')]\n",
      "Applied: apply_isolated_vertex_reduction, Details: [11]\n",
      "Applied: apply_domination_reduction, Details: [(31, 'fold_30')]\n",
      "Applied: apply_isolated_vertex_reduction, Details: [31]\n",
      "Applied: apply_domination_reduction, Details: [(51, 'fold_50')]\n",
      "Applied: apply_isolated_vertex_reduction, Details: [51]\n"
     ]
    },
    {
     "data": {
      "text/plain": [
       "<unittest.runner.TextTestResult run=1 errors=0 failures=1>"
      ]
     },
     "execution_count": 9,
     "metadata": {},
     "output_type": "execute_result"
    }
   ],
   "execution_count": 9
  },
  {
   "metadata": {
    "ExecuteTime": {
     "end_time": "2025-08-13T11:36:49.252659Z",
     "start_time": "2025-08-13T11:36:49.098287Z"
    }
   },
   "cell_type": "code",
   "source": [
    "import random\n",
    "import networkx as nx\n",
    "from copy import deepcopy\n",
    "from typing import List, Tuple\n",
    "\n",
    "def brute_force_domination_pairs(G: nx.Graph) -> List[Tuple[str, str]]:\n",
    "    \"\"\"\n",
    "    Finds all (dominated, dominator) pairs where N[dominator] ⊇ N[dominated].\n",
    "    \"\"\"\n",
    "    pairs = []\n",
    "    nodes = list(G.nodes())\n",
    "    for u in nodes:\n",
    "        Nu_closed = set(G.neighbors(u)) | {u}\n",
    "        for v in nodes:\n",
    "            if u == v:\n",
    "                continue\n",
    "            Nv_closed = set(G.neighbors(v)) | {v}\n",
    "            if Nv_closed.issuperset(Nu_closed):\n",
    "                pairs.append((u, v))\n",
    "    return pairs\n",
    "\n",
    "def validate_domination_reduction_step(G: nx.Graph, func) -> bool:\n",
    "    \"\"\"\n",
    "    Validates a single application of domination reduction.\n",
    "    Returns True if the reduction is correct, False if incorrect.\n",
    "    \"\"\"\n",
    "    before_pairs = brute_force_domination_pairs(G)\n",
    "    G2, changed, dominated_pairs = func(deepcopy(G))\n",
    "    if not changed:\n",
    "        # If function says no change, there should be no domination pairs\n",
    "        return before_pairs == []\n",
    "    else:\n",
    "        # If function removes something, check that it was a valid dominated pair\n",
    "        for dom_u, dom_v in dominated_pairs:\n",
    "            if (dom_u, dom_v) not in before_pairs:\n",
    "                print(f\"❌ ERROR: Removed invalid pair ({dom_u}, {dom_v})\")\n",
    "                return False\n",
    "        return True\n",
    "\n",
    "def random_graph_test(func, num_tests=100, max_nodes=8, edge_prob=0.4):\n",
    "    \"\"\"\n",
    "    Runs multiple random graph tests for domination reduction correctness.\n",
    "    \"\"\"\n",
    "    for test_num in range(num_tests):\n",
    "        # Generate random graph\n",
    "        n = random.randint(1, max_nodes)\n",
    "        G = nx.erdos_renyi_graph(n, edge_prob)\n",
    "\n",
    "        # Keep reducing until no changes occur\n",
    "        while True:\n",
    "            if not validate_domination_reduction_step(G, func):\n",
    "                print(f\"Test {test_num+1} failed ❌\")\n",
    "                return False\n",
    "            G, changed, _ = func(G)\n",
    "            if not changed:\n",
    "                break\n",
    "    print(f\"✅ All {num_tests} random graph tests passed!\")\n",
    "    return True\n"
   ],
   "id": "c6dfe14dfc343a63",
   "outputs": [],
   "execution_count": 26
  },
  {
   "metadata": {
    "ExecuteTime": {
     "end_time": "2025-08-13T11:37:27.696662Z",
     "start_time": "2025-08-13T11:37:27.540309Z"
    }
   },
   "cell_type": "code",
   "source": [
    "from reductions import apply_domination_reduction\n",
    "random_graph_test(apply_domination_reduction, num_tests=300)"
   ],
   "id": "33198c7bfac3a2e0",
   "outputs": [
    {
     "name": "stdout",
     "output_type": "stream",
     "text": [
      "✅ All 300 random graph tests passed!\n"
     ]
    },
    {
     "data": {
      "text/plain": [
       "True"
      ]
     },
     "execution_count": 28,
     "metadata": {},
     "output_type": "execute_result"
    }
   ],
   "execution_count": 28
  },
  {
   "metadata": {
    "ExecuteTime": {
     "end_time": "2025-08-14T10:18:03.772460Z",
     "start_time": "2025-08-14T10:18:03.723659Z"
    }
   },
   "cell_type": "code",
   "source": [
    "import random\n",
    "\n",
    "def is_crown(G, I, H):\n",
    "    # Independent set check\n",
    "    for u in I:\n",
    "        for v in I:\n",
    "            if u != v and G.has_edge(u, v):\n",
    "                return False\n",
    "    # Perfect matching check\n",
    "    B = nx.Graph()\n",
    "    B.add_nodes_from(H, bipartite=0)\n",
    "    B.add_nodes_from(I, bipartite=1)\n",
    "    for h in H:\n",
    "        for i in I:\n",
    "            if G.has_edge(h, i):\n",
    "                B.add_edge(h, i)\n",
    "    M = nx.bipartite.maximum_matching(B, top_nodes=H)\n",
    "    matched_pairs = [(u, v) for u, v in M.items() if u in H and v in I]\n",
    "    return len(matched_pairs) == len(H)\n",
    "\n",
    "def random_crown_test(func, num_tests=50, max_nodes=8, edge_prob=0.3):\n",
    "    for _ in range(num_tests):\n",
    "        G = nx.erdos_renyi_graph(random.randint(1, max_nodes), edge_prob)\n",
    "        G_before = deepcopy(G)\n",
    "        while True:\n",
    "            G, changed, crowns = func(G)\n",
    "            for I, H, M, unmatched_I in crowns:\n",
    "                assert is_crown(G_before, I, H)\n",
    "            if not changed:\n",
    "                break\n",
    "    print(f\"✅ {num_tests} random crown reduction tests passed!\")"
   ],
   "id": "c4cde654975d3586",
   "outputs": [],
   "execution_count": 49
  },
  {
   "metadata": {
    "ExecuteTime": {
     "end_time": "2025-08-14T10:18:47.456472Z",
     "start_time": "2025-08-14T10:18:46.775589Z"
    }
   },
   "cell_type": "code",
   "source": [
    "from reductions import apply_crown_reduction\n",
    "random_crown_test(apply_crown_reduction, num_tests=300)"
   ],
   "id": "68e05fac4b210b23",
   "outputs": [
    {
     "name": "stdout",
     "output_type": "stream",
     "text": [
      "✅ 300 random crown reduction tests passed!\n"
     ]
    }
   ],
   "execution_count": 51
  }
 ],
 "metadata": {
  "kernelspec": {
   "display_name": "Python 3",
   "language": "python",
   "name": "python3"
  },
  "language_info": {
   "codemirror_mode": {
    "name": "ipython",
    "version": 2
   },
   "file_extension": ".py",
   "mimetype": "text/x-python",
   "name": "python",
   "nbconvert_exporter": "python",
   "pygments_lexer": "ipython2",
   "version": "2.7.6"
  }
 },
 "nbformat": 4,
 "nbformat_minor": 5
}
